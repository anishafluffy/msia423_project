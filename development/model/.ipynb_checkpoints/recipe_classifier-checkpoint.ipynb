{
 "cells": [
  {
   "cell_type": "code",
   "execution_count": 32,
   "metadata": {},
   "outputs": [
    {
     "data": {
      "text/plain": [
       "'Code uses logistic regression to classify cuisine from a string of ingredients'"
      ]
     },
     "execution_count": 32,
     "metadata": {},
     "output_type": "execute_result"
    }
   ],
   "source": [
    "'''Code uses logistic regression to classify cuisine from a string of ingredients'''"
   ]
  },
  {
   "cell_type": "markdown",
   "metadata": {},
   "source": [
    "### Import libraries"
   ]
  },
  {
   "cell_type": "code",
   "execution_count": 1,
   "metadata": {
    "collapsed": true
   },
   "outputs": [],
   "source": [
    "#nltk.download()\n",
    "import numpy as np\n",
    "import pandas as pd\n",
    "from pandas import Series, DataFrame\n",
    "import nltk\n",
    "import re\n",
    "from nltk.stem import WordNetLemmatizer\n",
    "from sklearn.feature_extraction.text import TfidfVectorizer\n",
    "from sklearn.naive_bayes import MultinomialNB\n",
    "from sklearn.svm import LinearSVC\n",
    "from sklearn.linear_model import LogisticRegression\n",
    "from sklearn.model_selection import train_test_split\n",
    "from sklearn.model_selection import cross_val_predict\n",
    "from sklearn.model_selection import GridSearchCV\n",
    "from sklearn import metrics\n",
    "#from sklearn.metrics import classification_report\n",
    "\n",
    "#from sklearn import grid_search"
   ]
  },
  {
   "cell_type": "markdown",
   "metadata": {
    "collapsed": true
   },
   "source": [
    "### Import data "
   ]
  },
  {
   "cell_type": "code",
   "execution_count": 2,
   "metadata": {
    "collapsed": true
   },
   "outputs": [],
   "source": [
    "df = pd.read_json(\"../data/train.json\")\n",
    "testdf = pd.read_json(\"../data/test.json\") "
   ]
  },
  {
   "cell_type": "markdown",
   "metadata": {
    "collapsed": true
   },
   "source": [
    "### Clean dataframe"
   ]
  },
  {
   "cell_type": "code",
   "execution_count": 3,
   "metadata": {
    "collapsed": true
   },
   "outputs": [],
   "source": [
    "df['ingredients_clean_string'] = [' , '.join(z).strip() for z in df['ingredients']]  \n",
    "df['ingredients_string'] = [' '.join([WordNetLemmatizer().lemmatize(re.sub('[^A-Za-z]', ' ', line)) for line in lists]).strip() for lists in df['ingredients']]       "
   ]
  },
  {
   "cell_type": "code",
   "execution_count": 4,
   "metadata": {
    "collapsed": true
   },
   "outputs": [],
   "source": [
    "testdf['ingredients_clean_string'] = [' , '.join(z).strip() for z in testdf['ingredients']]\n",
    "testdf['ingredients_string'] = [' '.join([WordNetLemmatizer().lemmatize(re.sub('[^A-Za-z]', ' ', line)) for line in lists]).strip() for lists in testdf['ingredients']]       "
   ]
  },
  {
   "cell_type": "code",
   "execution_count": 5,
   "metadata": {},
   "outputs": [
    {
     "name": "stdout",
     "output_type": "stream",
     "text": [
      "39774\n"
     ]
    },
    {
     "data": {
      "text/html": [
       "<div>\n",
       "<style>\n",
       "    .dataframe thead tr:only-child th {\n",
       "        text-align: right;\n",
       "    }\n",
       "\n",
       "    .dataframe thead th {\n",
       "        text-align: left;\n",
       "    }\n",
       "\n",
       "    .dataframe tbody tr th {\n",
       "        vertical-align: top;\n",
       "    }\n",
       "</style>\n",
       "<table border=\"1\" class=\"dataframe\">\n",
       "  <thead>\n",
       "    <tr style=\"text-align: right;\">\n",
       "      <th></th>\n",
       "      <th>cuisine</th>\n",
       "      <th>id</th>\n",
       "      <th>ingredients</th>\n",
       "      <th>ingredients_clean_string</th>\n",
       "      <th>ingredients_string</th>\n",
       "    </tr>\n",
       "  </thead>\n",
       "  <tbody>\n",
       "    <tr>\n",
       "      <th>0</th>\n",
       "      <td>greek</td>\n",
       "      <td>10259</td>\n",
       "      <td>[romaine lettuce, black olives, grape tomatoes...</td>\n",
       "      <td>romaine lettuce , black olives , grape tomatoe...</td>\n",
       "      <td>romaine lettuce black olives grape tomatoes ga...</td>\n",
       "    </tr>\n",
       "    <tr>\n",
       "      <th>1</th>\n",
       "      <td>southern_us</td>\n",
       "      <td>25693</td>\n",
       "      <td>[plain flour, ground pepper, salt, tomatoes, g...</td>\n",
       "      <td>plain flour , ground pepper , salt , tomatoes ...</td>\n",
       "      <td>plain flour ground pepper salt tomato ground b...</td>\n",
       "    </tr>\n",
       "    <tr>\n",
       "      <th>2</th>\n",
       "      <td>filipino</td>\n",
       "      <td>20130</td>\n",
       "      <td>[eggs, pepper, salt, mayonaise, cooking oil, g...</td>\n",
       "      <td>eggs , pepper , salt , mayonaise , cooking oil...</td>\n",
       "      <td>egg pepper salt mayonaise cooking oil green ch...</td>\n",
       "    </tr>\n",
       "    <tr>\n",
       "      <th>3</th>\n",
       "      <td>indian</td>\n",
       "      <td>22213</td>\n",
       "      <td>[water, vegetable oil, wheat, salt]</td>\n",
       "      <td>water , vegetable oil , wheat , salt</td>\n",
       "      <td>water vegetable oil wheat salt</td>\n",
       "    </tr>\n",
       "    <tr>\n",
       "      <th>4</th>\n",
       "      <td>indian</td>\n",
       "      <td>13162</td>\n",
       "      <td>[black pepper, shallots, cornflour, cayenne pe...</td>\n",
       "      <td>black pepper , shallots , cornflour , cayenne ...</td>\n",
       "      <td>black pepper shallot cornflour cayenne pepper ...</td>\n",
       "    </tr>\n",
       "  </tbody>\n",
       "</table>\n",
       "</div>"
      ],
      "text/plain": [
       "       cuisine     id                                        ingredients  \\\n",
       "0        greek  10259  [romaine lettuce, black olives, grape tomatoes...   \n",
       "1  southern_us  25693  [plain flour, ground pepper, salt, tomatoes, g...   \n",
       "2     filipino  20130  [eggs, pepper, salt, mayonaise, cooking oil, g...   \n",
       "3       indian  22213                [water, vegetable oil, wheat, salt]   \n",
       "4       indian  13162  [black pepper, shallots, cornflour, cayenne pe...   \n",
       "\n",
       "                            ingredients_clean_string  \\\n",
       "0  romaine lettuce , black olives , grape tomatoe...   \n",
       "1  plain flour , ground pepper , salt , tomatoes ...   \n",
       "2  eggs , pepper , salt , mayonaise , cooking oil...   \n",
       "3               water , vegetable oil , wheat , salt   \n",
       "4  black pepper , shallots , cornflour , cayenne ...   \n",
       "\n",
       "                                  ingredients_string  \n",
       "0  romaine lettuce black olives grape tomatoes ga...  \n",
       "1  plain flour ground pepper salt tomato ground b...  \n",
       "2  egg pepper salt mayonaise cooking oil green ch...  \n",
       "3                     water vegetable oil wheat salt  \n",
       "4  black pepper shallot cornflour cayenne pepper ...  "
      ]
     },
     "execution_count": 5,
     "metadata": {},
     "output_type": "execute_result"
    }
   ],
   "source": [
    "#number of rows\n",
    "print(len(df.index))\n",
    "\n",
    "#view data\n",
    "df.head()"
   ]
  },
  {
   "cell_type": "markdown",
   "metadata": {},
   "source": [
    "### Model Creation"
   ]
  },
  {
   "cell_type": "code",
   "execution_count": 7,
   "metadata": {
    "collapsed": true
   },
   "outputs": [],
   "source": [
    "#instantiate vectorizer\n",
    "vect = TfidfVectorizer(stop_words = 'english', #remove standard english stop words\n",
    "                               ngram_range = (1 , 1), #range of n-values for different n-grams to be extracted\n",
    "                               analyzer = \"word\", #feature made of word (not character) n-grams\n",
    "                               max_df = .57, #ignore terms that have a document frequency higher than threshold \n",
    "                               binary = False , \n",
    "                               token_pattern = r'\\w+' , #what constitutes a “token”\n",
    "                               sublinear_tf = False\n",
    "                              )"
   ]
  },
  {
   "cell_type": "code",
   "execution_count": 8,
   "metadata": {
    "collapsed": true
   },
   "outputs": [],
   "source": [
    "#use vectorizer on training corpus\n",
    "predictors = vect.fit_transform(df['ingredients_string']).todense()\n",
    "\n",
    "#define targets\n",
    "response = df['cuisine']"
   ]
  },
  {
   "cell_type": "code",
   "execution_count": 10,
   "metadata": {
    "collapsed": true
   },
   "outputs": [],
   "source": [
    "#classifier = LinearSVC(C=0.80, penalty=\"l2\", dual=False)\n",
    "parameters = {'C':[1, 10]}\n",
    "\n",
    "#instantiate model\n",
    "#clf = LinearSVC()\n",
    "clf = LogisticRegression()\n",
    "#model = MultinomialNB()\n",
    "\n",
    "#train the model\n",
    "classifier = GridSearchCV(clf, parameters)\n",
    "classifier = classifier.fit(predictors, response) "
   ]
  },
  {
   "cell_type": "markdown",
   "metadata": {},
   "source": [
    "### Predict cuisine for test dataframe"
   ]
  },
  {
   "cell_type": "code",
   "execution_count": 9,
   "metadata": {
    "collapsed": true
   },
   "outputs": [],
   "source": [
    "#use vectorizer on test corpus\n",
    "predictors_ts = vect.transform(testdf['ingredients_string'])"
   ]
  },
  {
   "cell_type": "code",
   "execution_count": 11,
   "metadata": {},
   "outputs": [
    {
     "data": {
      "text/html": [
       "<div>\n",
       "<style>\n",
       "    .dataframe thead tr:only-child th {\n",
       "        text-align: right;\n",
       "    }\n",
       "\n",
       "    .dataframe thead th {\n",
       "        text-align: left;\n",
       "    }\n",
       "\n",
       "    .dataframe tbody tr th {\n",
       "        vertical-align: top;\n",
       "    }\n",
       "</style>\n",
       "<table border=\"1\" class=\"dataframe\">\n",
       "  <thead>\n",
       "    <tr style=\"text-align: right;\">\n",
       "      <th></th>\n",
       "      <th>id</th>\n",
       "      <th>ingredients</th>\n",
       "      <th>ingredients_clean_string</th>\n",
       "      <th>ingredients_string</th>\n",
       "      <th>cuisine</th>\n",
       "    </tr>\n",
       "  </thead>\n",
       "  <tbody>\n",
       "    <tr>\n",
       "      <th>4987</th>\n",
       "      <td>5</td>\n",
       "      <td>[mushrooms, chopped onion, tomato sauce, chees...</td>\n",
       "      <td>mushrooms , chopped onion , tomato sauce , che...</td>\n",
       "      <td>mushroom chopped onion tomato sauce cheese dri...</td>\n",
       "      <td>mexican</td>\n",
       "    </tr>\n",
       "    <tr>\n",
       "      <th>9232</th>\n",
       "      <td>7</td>\n",
       "      <td>[minced garlic, brown rice, sour cream, chicke...</td>\n",
       "      <td>minced garlic , brown rice , sour cream , chic...</td>\n",
       "      <td>minced garlic brown rice sour cream chicken re...</td>\n",
       "      <td>indian</td>\n",
       "    </tr>\n",
       "    <tr>\n",
       "      <th>9638</th>\n",
       "      <td>11</td>\n",
       "      <td>[lime juice, sesame oil, garlic cloves, fish s...</td>\n",
       "      <td>lime juice , sesame oil , garlic cloves , fish...</td>\n",
       "      <td>lime juice sesame oil garlic cloves fish sauce...</td>\n",
       "      <td>vietnamese</td>\n",
       "    </tr>\n",
       "    <tr>\n",
       "      <th>4927</th>\n",
       "      <td>12</td>\n",
       "      <td>[sugar, vanilla extract, corn starch, coffee g...</td>\n",
       "      <td>sugar , vanilla extract , corn starch , coffee...</td>\n",
       "      <td>sugar vanilla extract corn starch coffee granu...</td>\n",
       "      <td>italian</td>\n",
       "    </tr>\n",
       "    <tr>\n",
       "      <th>3280</th>\n",
       "      <td>13</td>\n",
       "      <td>[frozen pie crust, bourbon whiskey, powdered s...</td>\n",
       "      <td>frozen pie crust , bourbon whiskey , powdered ...</td>\n",
       "      <td>frozen pie crust bourbon whiskey powdered suga...</td>\n",
       "      <td>southern_us</td>\n",
       "    </tr>\n",
       "  </tbody>\n",
       "</table>\n",
       "</div>"
      ],
      "text/plain": [
       "      id                                        ingredients  \\\n",
       "4987   5  [mushrooms, chopped onion, tomato sauce, chees...   \n",
       "9232   7  [minced garlic, brown rice, sour cream, chicke...   \n",
       "9638  11  [lime juice, sesame oil, garlic cloves, fish s...   \n",
       "4927  12  [sugar, vanilla extract, corn starch, coffee g...   \n",
       "3280  13  [frozen pie crust, bourbon whiskey, powdered s...   \n",
       "\n",
       "                               ingredients_clean_string  \\\n",
       "4987  mushrooms , chopped onion , tomato sauce , che...   \n",
       "9232  minced garlic , brown rice , sour cream , chic...   \n",
       "9638  lime juice , sesame oil , garlic cloves , fish...   \n",
       "4927  sugar , vanilla extract , corn starch , coffee...   \n",
       "3280  frozen pie crust , bourbon whiskey , powdered ...   \n",
       "\n",
       "                                     ingredients_string      cuisine  \n",
       "4987  mushroom chopped onion tomato sauce cheese dri...      mexican  \n",
       "9232  minced garlic brown rice sour cream chicken re...       indian  \n",
       "9638  lime juice sesame oil garlic cloves fish sauce...   vietnamese  \n",
       "4927  sugar vanilla extract corn starch coffee granu...      italian  \n",
       "3280  frozen pie crust bourbon whiskey powdered suga...  southern_us  "
      ]
     },
     "execution_count": 11,
     "metadata": {},
     "output_type": "execute_result"
    }
   ],
   "source": [
    "#make class predictions for test\n",
    "predictions = classifier.predict(predictors_ts)\n",
    "\n",
    "#add predictions to the dataframe\n",
    "testdf['cuisine'] = predictions\n",
    "testdf = testdf.sort_values('id', ascending=True)\n",
    "testdf.head()\n",
    "\n",
    "#testdf[['id' , 'ingredients_clean_string' , 'cuisine' ]].to_csv(\"submission.csv\")\n",
    "\n",
    "# A combination of Word lemmatization + LinearSVC model finally pushes the accuracy score past 80%"
   ]
  },
  {
   "cell_type": "markdown",
   "metadata": {},
   "source": [
    "### Cross validation to measure accuracy"
   ]
  },
  {
   "cell_type": "code",
   "execution_count": 30,
   "metadata": {},
   "outputs": [
    {
     "data": {
      "text/plain": [
       "0.7854377231357168"
      ]
     },
     "execution_count": 30,
     "metadata": {},
     "output_type": "execute_result"
    }
   ],
   "source": [
    "#3-fold cross validation\n",
    "cv_predictions = cross_val_predict(classifier, predictors, response, cv = 3)\n",
    "\n",
    "#measure accuracy\n",
    "metrics.accuracy_score(response, cv_predictions) "
   ]
  },
  {
   "cell_type": "code",
   "execution_count": 31,
   "metadata": {},
   "outputs": [
    {
     "data": {
      "text/html": [
       "<div>\n",
       "<style>\n",
       "    .dataframe thead tr:only-child th {\n",
       "        text-align: right;\n",
       "    }\n",
       "\n",
       "    .dataframe thead th {\n",
       "        text-align: left;\n",
       "    }\n",
       "\n",
       "    .dataframe tbody tr th {\n",
       "        vertical-align: top;\n",
       "    }\n",
       "</style>\n",
       "<table border=\"1\" class=\"dataframe\">\n",
       "  <thead>\n",
       "    <tr style=\"text-align: right;\">\n",
       "      <th></th>\n",
       "      <th>ingredients_string</th>\n",
       "      <th>cuisine</th>\n",
       "      <th>predicted_cuisine</th>\n",
       "    </tr>\n",
       "  </thead>\n",
       "  <tbody>\n",
       "    <tr>\n",
       "      <th>0</th>\n",
       "      <td>romaine lettuce black olives grape tomatoes ga...</td>\n",
       "      <td>greek</td>\n",
       "      <td>greek</td>\n",
       "    </tr>\n",
       "    <tr>\n",
       "      <th>1</th>\n",
       "      <td>plain flour ground pepper salt tomato ground b...</td>\n",
       "      <td>southern_us</td>\n",
       "      <td>southern_us</td>\n",
       "    </tr>\n",
       "    <tr>\n",
       "      <th>2</th>\n",
       "      <td>egg pepper salt mayonaise cooking oil green ch...</td>\n",
       "      <td>filipino</td>\n",
       "      <td>filipino</td>\n",
       "    </tr>\n",
       "    <tr>\n",
       "      <th>3</th>\n",
       "      <td>water vegetable oil wheat salt</td>\n",
       "      <td>indian</td>\n",
       "      <td>indian</td>\n",
       "    </tr>\n",
       "    <tr>\n",
       "      <th>4</th>\n",
       "      <td>black pepper shallot cornflour cayenne pepper ...</td>\n",
       "      <td>indian</td>\n",
       "      <td>indian</td>\n",
       "    </tr>\n",
       "  </tbody>\n",
       "</table>\n",
       "</div>"
      ],
      "text/plain": [
       "                                  ingredients_string      cuisine  \\\n",
       "0  romaine lettuce black olives grape tomatoes ga...        greek   \n",
       "1  plain flour ground pepper salt tomato ground b...  southern_us   \n",
       "2  egg pepper salt mayonaise cooking oil green ch...     filipino   \n",
       "3                     water vegetable oil wheat salt       indian   \n",
       "4  black pepper shallot cornflour cayenne pepper ...       indian   \n",
       "\n",
       "  predicted_cuisine  \n",
       "0             greek  \n",
       "1       southern_us  \n",
       "2          filipino  \n",
       "3            indian  \n",
       "4            indian  "
      ]
     },
     "execution_count": 31,
     "metadata": {},
     "output_type": "execute_result"
    }
   ],
   "source": [
    "#look at predicted data\n",
    "dfpredict = pd.concat([df['ingredients_string'], response, Series(cv_predictions, name = 'predicted_cuisine')], axis = 1)\n",
    "dfpredict.head()"
   ]
  },
  {
   "cell_type": "markdown",
   "metadata": {},
   "source": [
    "### Predict cuisine for user inputted list"
   ]
  },
  {
   "cell_type": "code",
   "execution_count": 56,
   "metadata": {},
   "outputs": [
    {
     "name": "stdout",
     "output_type": "stream",
     "text": [
      "inputted ingredients: berry\n",
      "predicted cuisine: jamaican\n",
      "probability: 23.1%\n"
     ]
    }
   ],
   "source": [
    "#try with user input \n",
    "#user_input = dfpredict['ingredients_string'][0] \n",
    "user_input = 'berry'\n",
    "print('inputted ingredients:', user_input)\n",
    "\n",
    "#vectorize the input\n",
    "predictors_input = vect.transform([user_input])\n",
    "predictors_input.toarray()\n",
    "\n",
    "#predict response\n",
    "response_output = ''.join(classifier.predict(predictors_input))\n",
    "print('predicted cuisine:', response_output)\n",
    "\n",
    "#probability\n",
    "print(\"probability: {:.1%}\".format(np.amax(classifier.predict_proba(predictors_input))))"
   ]
  },
  {
   "cell_type": "code",
   "execution_count": null,
   "metadata": {},
   "outputs": [],
   "source": []
  },
  {
   "cell_type": "code",
   "execution_count": null,
   "metadata": {
    "collapsed": true
   },
   "outputs": [],
   "source": []
  }
 ],
 "metadata": {
  "kernelspec": {
   "display_name": "Python 3",
   "language": "python",
   "name": "python3"
  },
  "language_info": {
   "codemirror_mode": {
    "name": "ipython",
    "version": 3
   },
   "file_extension": ".py",
   "mimetype": "text/x-python",
   "name": "python",
   "nbconvert_exporter": "python",
   "pygments_lexer": "ipython3",
   "version": "3.6.1"
  }
 },
 "nbformat": 4,
 "nbformat_minor": 2
}
